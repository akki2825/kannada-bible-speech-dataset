{
 "cells": [
  {
   "cell_type": "code",
   "execution_count": 1,
   "metadata": {},
   "outputs": [
    {
     "name": "stdout",
     "output_type": "stream",
     "text": [
      "Requirement already satisfied: bs4 in /home/akhilesh/miniconda3/envs/py36/lib/python3.6/site-packages (0.0.1)\n",
      "Requirement already satisfied: beautifulsoup4 in /home/akhilesh/miniconda3/envs/py36/lib/python3.6/site-packages (from bs4) (4.8.2)\n",
      "Requirement already satisfied: soupsieve>=1.2 in /home/akhilesh/miniconda3/envs/py36/lib/python3.6/site-packages (from beautifulsoup4->bs4) (1.9.5)\n",
      "Requirement already satisfied: requests in /home/akhilesh/miniconda3/envs/py36/lib/python3.6/site-packages (2.23.0)\n",
      "Requirement already satisfied: chardet<4,>=3.0.2 in /home/akhilesh/miniconda3/envs/py36/lib/python3.6/site-packages (from requests) (3.0.4)\n",
      "Requirement already satisfied: idna<3,>=2.5 in /home/akhilesh/miniconda3/envs/py36/lib/python3.6/site-packages (from requests) (2.8)\n",
      "Requirement already satisfied: urllib3!=1.25.0,!=1.25.1,<1.26,>=1.21.1 in /home/akhilesh/miniconda3/envs/py36/lib/python3.6/site-packages (from requests) (1.25.8)\n",
      "Requirement already satisfied: certifi>=2017.4.17 in /home/akhilesh/miniconda3/envs/py36/lib/python3.6/site-packages (from requests) (2019.11.28)\n"
     ]
    }
   ],
   "source": [
    "!pip install bs4\n",
    "!pip install requests"
   ]
  },
  {
   "cell_type": "code",
   "execution_count": 2,
   "metadata": {},
   "outputs": [
    {
     "name": "stdout",
     "output_type": "stream",
     "text": [
      "Requirement already satisfied: selenium in /home/akhilesh/miniconda3/envs/py36/lib/python3.6/site-packages (3.141.0)\r\n",
      "Requirement already satisfied: urllib3 in /home/akhilesh/miniconda3/envs/py36/lib/python3.6/site-packages (from selenium) (1.25.8)\r\n"
     ]
    }
   ],
   "source": [
    "!pip install selenium"
   ]
  },
  {
   "cell_type": "code",
   "execution_count": 3,
   "metadata": {},
   "outputs": [
    {
     "name": "stdout",
     "output_type": "stream",
     "text": [
      "Collecting wget\n",
      "  Downloading wget-3.2.zip (10 kB)\n",
      "Building wheels for collected packages: wget\n",
      "  Building wheel for wget (setup.py) ... \u001b[?25ldone\n",
      "\u001b[?25h  Created wheel for wget: filename=wget-3.2-py3-none-any.whl size=9682 sha256=941ec83b69e8f626b3d84c5fa34d1942e9cca3f65d2e72ba328393a72f755fa7\n",
      "  Stored in directory: /home/akhilesh/.cache/pip/wheels/90/1d/93/c863ee832230df5cfc25ca497b3e88e0ee3ea9e44adc46ac62\n",
      "Successfully built wget\n",
      "Installing collected packages: wget\n",
      "Successfully installed wget-3.2\n"
     ]
    }
   ],
   "source": [
    "!pip install wget"
   ]
  },
  {
   "cell_type": "code",
   "execution_count": 1,
   "metadata": {},
   "outputs": [],
   "source": [
    "# The standard library modules\n",
    "import os\n",
    "import sys\n",
    "\n",
    "# The wget module\n",
    "import wget\n",
    "\n",
    "# The BeautifulSoup module\n",
    "from bs4 import BeautifulSoup\n",
    "\n",
    "# The selenium module\n",
    "from selenium import webdriver\n",
    "from selenium.webdriver.common.keys import Keys\n",
    "from selenium.webdriver.support.ui import WebDriverWait\n",
    "from selenium.webdriver.support import expected_conditions as EC\n",
    "from selenium.webdriver.common.by import By"
   ]
  },
  {
   "cell_type": "code",
   "execution_count": 2,
   "metadata": {},
   "outputs": [],
   "source": [
    "## Install geckodriver\n",
    "\n",
    "driver = webdriver.Firefox() # if you want to use chrome, replace Firefox() with Chrome()\n",
    "driver.get(\"https://live.bible.is/bible/KANWTC/MAT/1\") # load the web page"
   ]
  },
  {
   "cell_type": "code",
   "execution_count": 3,
   "metadata": {},
   "outputs": [],
   "source": [
    "from bs4.element import Comment\n",
    "\n",
    "def tag_visible(element):\n",
    "    if element.parent.name in ['style', 'script', 'head', 'title', 'meta', '[document]']:\n",
    "        return False\n",
    "    if isinstance(element, Comment):\n",
    "        return False\n",
    "    return True"
   ]
  },
  {
   "cell_type": "code",
   "execution_count": 4,
   "metadata": {
    "scrolled": true
   },
   "outputs": [],
   "source": [
    "## TODO: get this info from webpage directly. solution here is not scalable\n",
    "topics = [('MAT', 29), ('MRK', 17), ('LUK', 25), ('JHN', 22), ('ACT', 29), ('ROM', 17), ('1CO', 17), ('2CO', 14), ('GAL', 7), ('EPH', 7), ('PHP', 5), ('COL', 5), ('1TH', 6), ('2TH', 4), ('1TI', 7), ('2TI', 5), ('TIT', 4), ('PHM', 2), ('HEB', 14), ('JAS', 6), ('1PE', 6), ('2PE', 4), ('1JN', 6), ('2JN', 2), ('3JN', 2), ('JUD', 2), ('REV', 23)]"
   ]
  },
  {
   "cell_type": "code",
   "execution_count": 5,
   "metadata": {},
   "outputs": [],
   "source": [
    "lst = []\n",
    "for tp in topics:\n",
    "    for i in range(1, int(tp[1])):\n",
    "        data = {}\n",
    "        driver.get(\"https://live.bible.is/bible/KANWTC/\" + str(tp[0]) + \"/\" + str(tp[1]) + \"?audio_type=audio\") # load the web page\n",
    "        src = driver.page_source\n",
    "        parser = BeautifulSoup(src,\"lxml\")\n",
    "        tag = parser.findAll('audio')[0]['src']\n",
    "        texts = parser.findAll(text=True)\n",
    "        clean_text = list(filter(tag_visible, texts))\n",
    "        data['clean_text'] = clean_text\n",
    "        data['audio_link'] = tag\n",
    "        lst.append(data)"
   ]
  },
  {
   "cell_type": "code",
   "execution_count": 6,
   "metadata": {},
   "outputs": [],
   "source": [
    "## TODO: refactor! heavily overfitted to this use case.\n",
    "\n",
    "new_data = []\n",
    "for item in lst:\n",
    "    new_item = {}\n",
    "    target = item['clean_text'][3:].index('Copyrighted Material')\n",
    "    new_item['clean_strings'] = lst[0]['clean_text'][3:][:target]\n",
    "    new_item['audio_link'] = item['audio_link']\n",
    "    new_data.append(new_item)"
   ]
  },
  {
   "cell_type": "code",
   "execution_count": 8,
   "metadata": {},
   "outputs": [],
   "source": [
    "import json\n",
    "with open('data.json', 'w+', encoding='utf-8') as f:\n",
    "    json.dump(new_data, f, ensure_ascii=False)"
   ]
  },
  {
   "cell_type": "code",
   "execution_count": 9,
   "metadata": {},
   "outputs": [
    {
     "data": {
      "text/plain": [
       "260"
      ]
     },
     "execution_count": 9,
     "metadata": {},
     "output_type": "execute_result"
    }
   ],
   "source": [
    "len(new_data)"
   ]
  },
  {
   "cell_type": "code",
   "execution_count": null,
   "metadata": {},
   "outputs": [],
   "source": []
  }
 ],
 "metadata": {
  "kernelspec": {
   "display_name": "Python 3",
   "language": "python",
   "name": "python3"
  },
  "language_info": {
   "codemirror_mode": {
    "name": "ipython",
    "version": 3
   },
   "file_extension": ".py",
   "mimetype": "text/x-python",
   "name": "python",
   "nbconvert_exporter": "python",
   "pygments_lexer": "ipython3",
   "version": "3.6.10"
  }
 },
 "nbformat": 4,
 "nbformat_minor": 4
}
